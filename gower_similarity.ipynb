{
 "cells": [
  {
   "cell_type": "code",
   "execution_count": 1,
   "metadata": {},
   "outputs": [],
   "source": [
    "import numpy as np\n",
    "import pandas as pd"
   ]
  },
  {
   "cell_type": "code",
   "execution_count": null,
   "metadata": {},
   "outputs": [],
   "source": [
    "book = pd.read_csv('book.csv')\n",
    "RUB = pd.read_csv('rub.csv')\n",
    "user = pd.read_csv('user.csv')"
   ]
  },
  {
   "cell_type": "markdown",
   "metadata": {},
   "source": [
    "# 데이터 전처리"
   ]
  },
  {
   "cell_type": "markdown",
   "metadata": {},
   "source": [
    "### 1. 도서 데이터"
   ]
  },
  {
   "cell_type": "code",
   "execution_count": null,
   "metadata": {},
   "outputs": [],
   "source": [
    "# 중복 도서 처리\n",
    "book[book.duplicated(subset='Title')][book[book.duplicated(subset='Title')]['Title']=='데미안']\n",
    "book_id_set = book[['Book_id','Title']]\n",
    "RUB = pd.merge(RUB,book_id_set,on='Book_id')\n",
    "book_nonduplicated = book.drop_duplicates(subset='Title')"
   ]
  },
  {
   "cell_type": "code",
   "execution_count": null,
   "metadata": {},
   "outputs": [],
   "source": [
    "# 도서 분야 '분야 3'으로 정리\n",
    "book_Genre_set = book[['Book_id','분야_3']]\n",
    "RUB_Genre = pd.merge(RUB,book_Genre_set,on='Book_id')\n",
    "genre_list = list(book['분야_3'].dropna().unique())\n",
    "genre_list = sorted(genre_list, key=str)\n",
    "df_genre = pd.DataFrame(columns = genre_list)\n",
    "df_genre    #결과확인"
   ]
  },
  {
   "cell_type": "markdown",
   "metadata": {},
   "source": [
    "### 2. 유틸리티 행렬 생성"
   ]
  },
  {
   "cell_type": "code",
   "execution_count": null,
   "metadata": {},
   "outputs": [],
   "source": [
    "# 도서 유틸리티 행렬 생성 함수\n",
    "def book_list():\n",
    "    book_list = list(book['Title'].unique())\n",
    "    book_list = sorted(book_list, key=str)\n",
    "    df_matrix = pd.DataFrame(columns = ['id'] + book_list)\n",
    "    user_num = RUB['id'].unique()\n",
    "    \n",
    "    book_num = len(RUB['Title'].unique())\n",
    "    book_list = np.array(book_list)\n",
    "\n",
    "    user_watch_list = []    # df_matrix에서 'user' 컬럼을 제외한 컬럼. 즉, title 컬럼\n",
    "    for num in user_num:\n",
    "        user_watch_list = [0 for i in range(book_num)]    # 값을 0으로 초기화\n",
    "        df_tmp = RUB[RUB['id'] == num]    # 각 유저별로 묶는다\n",
    "    \n",
    "        for j in df_tmp.index:\n",
    "            i = np.where(book_list==df_tmp.Title[j])[0][0]\n",
    "            user_watch_list[i] = 1 # user가 보거나/보는중/보고싶다고 했다면 1 채워넣는다\n",
    "        \n",
    "            df_matrix.loc[num] = [num] + user_watch_list    # 행채우기]\n",
    "    df_matrix = df_matrix.rename(columns={13.67:'13.67'})\n",
    "    df_matrix = df_matrix.drop('id',axis=1)\n",
    "    return df_matrix"
   ]
  },
  {
   "cell_type": "code",
   "execution_count": null,
   "metadata": {},
   "outputs": [],
   "source": [
    "# 유저 profile 테이블 생성 함수\n",
    "def profile_list():\n",
    "    user_profile = user[['id','직업/세부','나이']]\n",
    "    user_profile = user_profile.set_index('id')\n",
    "    return user_profile"
   ]
  },
  {
   "cell_type": "code",
   "execution_count": null,
   "metadata": {},
   "outputs": [],
   "source": [
    "# 장르 유틸리티 행렬 생성 함수\n",
    "def genre_list():\n",
    "    genre_list = list(book['분야_3'].dropna().unique())\n",
    "    genre_list = sorted(genre_list, key=str)\n",
    "    df_genre = pd.DataFrame(columns = genre_list)\n",
    "    \n",
    "    genre_list = list(book['분야_3'].dropna().unique())\n",
    "    genre_list = sorted(genre_list, key=str)\n",
    "    df_genre_rate = pd.DataFrame(columns = genre_list)\n",
    "    \n",
    "    user_num = RUB['id'].unique()\n",
    "    genre_num = len(RUB['분야_3'].dropna().unique())\n",
    "    genre_list = np.array(genre_list)\n",
    "\n",
    "    user_genre_list = []    # df_matrix에서 'user' 컬럼을 제외한 컬럼. 즉, title 컬럼\n",
    "    for num in user_num:\n",
    "        user_genre_list = [0 for i in range(genre_num)]    # 값을 0으로 초기화\n",
    "        df_tmp = RUB[RUB['id'] == num]\n",
    "        #print(df_tmp.head(5))\n",
    "        for j in df_tmp.index:\n",
    "            df_tmp = df_tmp.fillna(value='null')\n",
    "            try:\n",
    "                i = np.where(genre_list==df_tmp.분야_3[j])[0][0]\n",
    "                user_genre_list[i] = user_genre_list[i]+1 # user가 보거나/보는중/보고싶다고 했다면 1 채워넣는다\n",
    "            except:\n",
    "                continue\n",
    "            df_genre.loc[num] = user_genre_list    # 행채우기\n",
    "    for i in df_genre.index:\n",
    "        tmp=[]\n",
    "        tmp = df_genre.loc[i]/df_genre.sum(axis=1).loc[i]\n",
    "        df_genre_rate.loc[i] = tmp\n",
    "    return df_genre_rate"
   ]
  },
  {
   "cell_type": "markdown",
   "metadata": {},
   "source": [
    "# Gower Similarity Measure"
   ]
  },
  {
   "cell_type": "code",
   "execution_count": null,
   "metadata": {},
   "outputs": [],
   "source": [
    "# 독서 기록에 따른 거리 측정 함수\n",
    "def history_dist(name):\n",
    "    sum_list=[]\n",
    "    history_dist = pd.DataFrame(df_matrix.index,columns=['id'])\n",
    "    for i in tqdm(df_matrix.index):\n",
    "        sum_dist=0\n",
    "        for j in df_matrix.columns:\n",
    "            if (df_matrix.loc[510][j]==1)&(df_matrix.loc[i][j]==1):\n",
    "                dist=0\n",
    "            else:\n",
    "                dist=1\n",
    "            sum_dist += dist\n",
    "        sum_list.append(sum_dist)\n",
    "    history_dist['ht_distance'] = sum_list\n",
    "    return history_dist"
   ]
  },
  {
   "cell_type": "code",
   "execution_count": null,
   "metadata": {},
   "outputs": [],
   "source": [
    "# 유저 프로필에 따른 거리 측정 함수\n",
    "def profile_dist(name):\n",
    "    user_profile.fillna(value=0,inplace=True)\n",
    "    MM = max(user_profile['나이']) - min(user_profile['나이'])\n",
    "    sum_list_2 = []\n",
    "    profile_dist = pd.DataFrame(user_profile.index)\n",
    "    \n",
    "    for i in user_profile.index:\n",
    "        sum_dist = 0\n",
    "        if user_profile.loc[name]['직업/세부'] == user_profile.loc[i]['직업/세부']:\n",
    "            dist=0\n",
    "        else:\n",
    "            dist=1\n",
    "        \n",
    "        dist_2 = abs(user_profile.loc[name]['나이'] - user_profile.loc[i]['나이'])/MM\n",
    "        \n",
    "        sum_dist = sum_dist + dist + dist_2\n",
    "        sum_list_2.append(sum_dist)\n",
    "    profile_dist['pf_distance'] = sum_list_2\n",
    "    return profile_dist"
   ]
  },
  {
   "cell_type": "code",
   "execution_count": null,
   "metadata": {},
   "outputs": [],
   "source": [
    "# 나이 min-max normalize\n",
    "%%time\n",
    "\n",
    "MM = max(user_profile['나이']) - min(user_profile['나이'])\n",
    "\n",
    "sum_list_2 = []\n",
    "profile_dist = pd.DataFrame(user_profile.index)\n",
    "\n",
    "for i in user_profile.index:\n",
    "    sum_dist = 0\n",
    "    if user_profile.loc[510]['직업/세부'] == user_profile.loc[i]['직업/세부']:\n",
    "        dist=0\n",
    "    else:\n",
    "        dist=1\n",
    "\n",
    "    dist_2 = abs(user_profile.loc[510]['나이'] - user_profile.loc[i]['나이'])/MM\n",
    "    \n",
    "    sum_dist = sum_dist + dist + dist_2\n",
    "    sum_list_2.append(sum_dist)\n",
    "profile_dist['pf_distance'] = sum_list_2"
   ]
  },
  {
   "cell_type": "code",
   "execution_count": null,
   "metadata": {},
   "outputs": [],
   "source": [
    "# 장르 count 비율로 산출\n",
    "genre_list = list(book['분야_3'].dropna().unique())\n",
    "genre_list = sorted(genre_list, key=str)\n",
    "df_genre_rate = pd.DataFrame(columns = genre_list)\n",
    "df_genre_rate  #결과확인"
   ]
  },
  {
   "cell_type": "code",
   "execution_count": null,
   "metadata": {},
   "outputs": [],
   "source": [
    "# 종합 거리 산출: 'name' 유저와 근접한 'a'명이 가장 많이 등록한 책 'b'권을 추천\n",
    "def RC_function(name, a, b): #name의 사람, a명의 사람\n",
    "    rank = hd.merge(pt).merge(gd)\n",
    "    rank['distance'] = (rank['gr_distance']+ rank['pf_distance']+ rank['ht_distance'])/(19522+2+1)\n",
    "    rank = rank.sort_values(by='distance')[1:a]\n",
    "    \n",
    "    read = df_matrix.loc[[name]].T\n",
    "    rank_user=[]\n",
    "    for i in df_matrix.index:\n",
    "        rank_user.append(i in list(rank['id']))\n",
    "    df_matrix[rank_user].T.sum(axis=1)\n",
    "    \n",
    "    read['rank'] = df_matrix[rank_user].T.sum(axis=1)\n",
    "    read.sort_values(by='rank',ascending=False)\n",
    "    book_rank = read.sort_values(by='rank',ascending=False)\n",
    "    result = book_rank[book_rank[name]==0][:b]\n",
    "    \n",
    "    return result.index"
   ]
  },
  {
   "cell_type": "code",
   "execution_count": null,
   "metadata": {},
   "outputs": [],
   "source": [
    "# 매트릭스 생성\n",
    "df_matrix = book_list()\n",
    "user_profile = profile_list()\n",
    "df_genre_rate = genre_list()"
   ]
  },
  {
   "cell_type": "code",
   "execution_count": null,
   "metadata": {},
   "outputs": [],
   "source": [
    "# 거리 계산\n",
    "hd = history_dist(510)\n",
    "pt = Profile_dist(510)\n",
    "gd = genre_dist(510)"
   ]
  },
  {
   "cell_type": "code",
   "execution_count": null,
   "metadata": {},
   "outputs": [],
   "source": [
    "# 도서 추천\n",
    "list(RC_function(510, 50, 5))\n",
    "# ['사피엔스 - 유인원에서 사이보그까지, 인간 역사의 대담하고 위대한 질문','데미안', '총 균 쇠 (반양장) - 무기.병균.금속은 인류의 운명을 어떻게 바꿨는가, \n",
    "#   개정증보판','아주 작은 습관의 힘 - 최고의 변화는 어떻게 만들어지는가','나미야 잡화점의 기적']"
   ]
  }
 ],
 "metadata": {
  "kernelspec": {
   "display_name": "Python 3",
   "language": "python",
   "name": "python3"
  },
  "language_info": {
   "codemirror_mode": {
    "name": "ipython",
    "version": 3
   },
   "file_extension": ".py",
   "mimetype": "text/x-python",
   "name": "python",
   "nbconvert_exporter": "python",
   "pygments_lexer": "ipython3",
   "version": "3.8.3"
  }
 },
 "nbformat": 4,
 "nbformat_minor": 4
}
